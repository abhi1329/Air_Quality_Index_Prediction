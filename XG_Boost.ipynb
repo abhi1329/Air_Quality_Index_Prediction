{
 "cells": [
  {
   "cell_type": "code",
   "execution_count": 1,
   "id": "950c625f",
   "metadata": {},
   "outputs": [],
   "source": [
    "import numpy as np\n",
    "import pandas as pd\n",
    "import matplotlib.pyplot as plt\n",
    "import seaborn as sns"
   ]
  },
  {
   "cell_type": "code",
   "execution_count": 2,
   "id": "fdb28606",
   "metadata": {},
   "outputs": [],
   "source": [
    "df = pd.read_csv('Real_Combine.csv')"
   ]
  },
  {
   "cell_type": "code",
   "execution_count": 7,
   "id": "334aa5ce",
   "metadata": {},
   "outputs": [
    {
     "data": {
      "text/plain": [
       "T         0\n",
       "TM        0\n",
       "Tm        0\n",
       "SLP       0\n",
       "H         0\n",
       "VV        0\n",
       "V         0\n",
       "VM        0\n",
       "PM 2.5    0\n",
       "dtype: int64"
      ]
     },
     "execution_count": 7,
     "metadata": {},
     "output_type": "execute_result"
    }
   ],
   "source": [
    "df.isnull().sum()"
   ]
  },
  {
   "cell_type": "code",
   "execution_count": 6,
   "id": "a206b968",
   "metadata": {},
   "outputs": [
    {
     "data": {
      "text/plain": [
       "<AxesSubplot:>"
      ]
     },
     "execution_count": 6,
     "metadata": {},
     "output_type": "execute_result"
    },
    {
     "data": {
      "image/png": "[encoded data removed]",
      "text/plain": [
       "<Figure size 432x288 with 2 Axes>"
      ]
     },
     "metadata": {
      "needs_background": "light"
     },
     "output_type": "display_data"
    }
   ],
   "source": [
    "#Check for null value\n",
    "sns.heatmap(df.isnull(), yticklabels=False,cbar=True,cmap='viridis')"
   ]
  },
  {
   "cell_type": "code",
   "execution_count": 5,
   "id": "932217d7",
   "metadata": {},
   "outputs": [],
   "source": [
    "df= df.dropna() #for dropping null value"
   ]
  },
  {
   "cell_type": "code",
   "execution_count": 8,
   "id": "b91acbe6",
   "metadata": {},
   "outputs": [],
   "source": [
    "x=df.iloc[:, :-1] ##independent features\n",
    "y=df.iloc[:, -1] ##Dependent features"
   ]
  },
  {
   "cell_type": "code",
   "execution_count": 9,
   "id": "e53e745c",
   "metadata": {},
   "outputs": [
    {
     "data": {
      "text/plain": [
       "ExtraTreesRegressor()"
      ]
     },
     "execution_count": 9,
     "metadata": {},
     "output_type": "execute_result"
    }
   ],
   "source": [
    "from sklearn.ensemble import ExtraTreesRegressor\n",
    "import matplotlib.pyplot as plt\n",
    "model = ExtraTreesRegressor()\n",
    "model.fit(x,y)"
   ]
  },
  {
   "cell_type": "code",
   "execution_count": 10,
   "id": "1e6c7989",
   "metadata": {},
   "outputs": [
    {
     "name": "stdout",
     "output_type": "stream",
     "text": [
      "[0.17253044 0.08558601 0.22413391 0.14193648 0.08838633 0.19238942\n",
      " 0.05305812 0.04197929]\n"
     ]
    }
   ],
   "source": [
    "print(model.feature_importances_)"
   ]
  },
  {
   "cell_type": "code",
   "execution_count": 11,
   "id": "a70060eb",
   "metadata": {},
   "outputs": [
    {
     "data": {
      "image/png": "[encoded data removed]",
      "text/plain": [
       "<Figure size 432x288 with 1 Axes>"
      ]
     },
     "metadata": {
      "needs_background": "light"
     },
     "output_type": "display_data"
    }
   ],
   "source": [
    "# print graph of feature importances for better visualization\n",
    "feat_importances = pd.Series(model.feature_importances_, index=x.columns)\n",
    "feat_importances.nlargest(6).plot(kind= 'barh')\n",
    "plt.show()"
   ]
  },
  {
   "cell_type": "code",
   "execution_count": 12,
   "id": "8f916a7e",
   "metadata": {},
   "outputs": [],
   "source": [
    "from sklearn.model_selection import train_test_split\n",
    "x_train,x_test,y_train,y_test = train_test_split(x,y,test_size=0.3,random_state=0)"
   ]
  },
  {
   "cell_type": "code",
   "execution_count": 14,
   "id": "d5609996",
   "metadata": {},
   "outputs": [],
   "source": [
    "import xgboost as xgb"
   ]
  },
  {
   "cell_type": "code",
   "execution_count": 15,
   "id": "c05dd1ef",
   "metadata": {},
   "outputs": [
    {
     "data": {
      "text/plain": [
       "XGBRegressor(base_score=0.5, booster='gbtree', colsample_bylevel=1,\n",
       "             colsample_bynode=1, colsample_bytree=1, enable_categorical=False,\n",
       "             gamma=0, gpu_id=-1, importance_type=None,\n",
       "             interaction_constraints='', learning_rate=0.300000012,\n",
       "             max_delta_step=0, max_depth=6, min_child_weight=1, missing=nan,\n",
       "             monotone_constraints='()', n_estimators=100, n_jobs=12,\n",
       "             num_parallel_tree=1, predictor='auto', random_state=0, reg_alpha=0,\n",
       "             reg_lambda=1, scale_pos_weight=1, subsample=1, tree_method='exact',\n",
       "             validate_parameters=1, verbosity=None)"
      ]
     },
     "execution_count": 15,
     "metadata": {},
     "output_type": "execute_result"
    }
   ],
   "source": [
    "regressor = xgb.XGBRegressor()\n",
    "regressor.fit(x_train,y_train)"
   ]
  },
  {
   "cell_type": "code",
   "execution_count": 16,
   "id": "7c23d9ed",
   "metadata": {},
   "outputs": [
    {
     "name": "stdout",
     "output_type": "stream",
     "text": [
      "Coefficient of determination R^2 <-- on train set: 0.9997717196345083\n"
     ]
    }
   ],
   "source": [
    "print(\"Coefficient of determination R^2 <-- on train set: {}\".format(regressor.score(x_train,y_train)))"
   ]
  },
  {
   "cell_type": "code",
   "execution_count": 17,
   "id": "3be162f4",
   "metadata": {},
   "outputs": [
    {
     "name": "stdout",
     "output_type": "stream",
     "text": [
      "Coefficient of determination R^2 <-- on train set: 0.8123312908288712\n"
     ]
    }
   ],
   "source": [
    "print(\"Coefficient of determination R^2 <-- on train set: {}\".format(regressor.score(x_test,y_test)))"
   ]
  },
  {
   "cell_type": "code",
   "execution_count": 19,
   "id": "4924a558",
   "metadata": {},
   "outputs": [],
   "source": [
    "from sklearn.model_selection import cross_val_score\n",
    "score = cross_val_score(regressor,x,y,cv=5)"
   ]
  },
  {
   "cell_type": "code",
   "execution_count": 20,
   "id": "806bdeaf",
   "metadata": {},
   "outputs": [
    {
     "data": {
      "text/plain": [
       "0.7251276747945072"
      ]
     },
     "execution_count": 20,
     "metadata": {},
     "output_type": "execute_result"
    }
   ],
   "source": [
    "score.mean()"
   ]
  },
  {
   "cell_type": "code",
   "execution_count": 21,
   "id": "4ac95e5d",
   "metadata": {},
   "outputs": [],
   "source": [
    "from sklearn.model_selection import RandomizedSearchCV"
   ]
  },
  {
   "cell_type": "code",
   "execution_count": 22,
   "id": "86734145",
   "metadata": {},
   "outputs": [
    {
     "name": "stdout",
     "output_type": "stream",
     "text": [
      "[100, 200, 300, 400, 500, 600, 700, 800, 900, 1000, 1100, 1200]\n"
     ]
    }
   ],
   "source": [
    "n_estimators = [int(x) for x in np.linspace(start = 100, stop = 1200, num = 12)]\n",
    "print(n_estimators)"
   ]
  },
  {
   "cell_type": "code",
   "execution_count": 23,
   "id": "7ba15727",
   "metadata": {},
   "outputs": [],
   "source": [
    " #Randomized Search CV\n",
    "\n",
    "# Number of trees in random forest\n",
    "n_estimators = [int(x) for x in np.linspace(start = 100, stop = 1200, num = 12)]\n",
    "# Various learning rate parameters\n",
    "learning_rate = ['0.05','0.1', '0.2','0.3','0.5','0.6']\n",
    "# Maximum number of levels in tree\n",
    "max_depth = [int(x) for x in np.linspace(5, 30, num = 6)]\n",
    "# max_depth.append(None)\n",
    "#Subssample parameter values\n",
    "subsample=[0.7,0.6,0.8]\n",
    "# Minimum child weight parameters\n",
    "min_child_weight=[3,4,5,6,7]\n"
   ]
  },
  {
   "cell_type": "code",
   "execution_count": 24,
   "id": "d73e11f3",
   "metadata": {},
   "outputs": [
    {
     "name": "stdout",
     "output_type": "stream",
     "text": [
      "{'n_estimators': [100, 200, 300, 400, 500, 600, 700, 800, 900, 1000, 1100, 1200], 'learning_rate': ['0.05', '0.1', '0.2', '0.3', '0.5', '0.6'], 'max_depth': [5, 10, 15, 20, 25, 30], 'subsample': [0.7, 0.6, 0.8], 'min_child_weight': [3, 4, 5, 6, 7]}\n"
     ]
    }
   ],
   "source": [
    "# Create the random grid\n",
    "random_grid = {'n_estimators': n_estimators,\n",
    "               'learning_rate': learning_rate,\n",
    "               'max_depth': max_depth,\n",
    "               'subsample': subsample,\n",
    "               'min_child_weight': min_child_weight}\n",
    "\n",
    "print(random_grid)"
   ]
  },
  {
   "cell_type": "code",
   "execution_count": 25,
   "id": "6d0565a5",
   "metadata": {},
   "outputs": [],
   "source": [
    "# Use the random grid to search for best hyperparameters\n",
    "# First create the base model to tune\n",
    "regressor=xgb.XGBRegressor()"
   ]
  },
  {
   "cell_type": "code",
   "execution_count": 26,
   "id": "9ed2bddd",
   "metadata": {},
   "outputs": [],
   "source": [
    "# Random search of parameters, using 3 fold cross validation, \n",
    "# search across 100 different combinations\n",
    "xg_random = RandomizedSearchCV(estimator = regressor, param_distributions = random_grid,scoring='neg_mean_squared_error', n_iter = 100, cv = 5, verbose=2, random_state=42, n_jobs = 1)\n"
   ]
  },
  {
   "cell_type": "code",
   "execution_count": 28,
   "id": "20786bb4",
   "metadata": {},
   "outputs": [
    {
     "name": "stdout",
     "output_type": "stream",
     "text": [
      "Fitting 5 folds for each of 100 candidates, totalling 500 fits\n",
      "[CV] END learning_rate=0.3, max_depth=10, min_child_weight=6, n_estimators=1100, subsample=0.7; total time=   0.5s\n",
      "[CV] END learning_rate=0.3, max_depth=10, min_child_weight=6, n_estimators=1100, subsample=0.7; total time=   0.6s\n",
      "[CV] END learning_rate=0.3, max_depth=10, min_child_weight=6, n_estimators=1100, subsample=0.7; total time=   0.8s\n",
      "[CV] END learning_rate=0.3, max_depth=10, min_child_weight=6, n_estimators=1100, subsample=0.7; total time=   0.9s\n",
      "[CV] END learning_rate=0.3, max_depth=10, min_child_weight=6, n_estimators=1100, subsample=0.7; total time=   0.6s\n",
      "[CV] END learning_rate=0.3, max_depth=20, min_child_weight=6, n_estimators=600, subsample=0.7; total time=   0.7s\n",
      "[CV] END learning_rate=0.3, max_depth=20, min_child_weight=6, n_estimators=600, subsample=0.7; total time=   0.7s\n",
      "[CV] END learning_rate=0.3, max_depth=20, min_child_weight=6, n_estimators=600, subsample=0.7; total time=   0.7s\n",
      "[CV] END learning_rate=0.3, max_depth=20, min_child_weight=6, n_estimators=600, subsample=0.7; total time=   0.7s\n",
      "[CV] END learning_rate=0.3, max_depth=20, min_child_weight=6, n_estimators=600, subsample=0.7; total time=   0.7s\n",
      "[CV] END learning_rate=0.1, max_depth=30, min_child_weight=7, n_estimators=300, subsample=0.6; total time=   0.3s\n",
      "[CV] END learning_rate=0.1, max_depth=30, min_child_weight=7, n_estimators=300, subsample=0.6; total time=   0.3s\n",
      "[CV] END learning_rate=0.1, max_depth=30, min_child_weight=7, n_estimators=300, subsample=0.6; total time=   0.3s\n",
      "[CV] END learning_rate=0.1, max_depth=30, min_child_weight=7, n_estimators=300, subsample=0.6; total time=   0.3s\n",
      "[CV] END learning_rate=0.1, max_depth=30, min_child_weight=7, n_estimators=300, subsample=0.6; total time=   0.3s\n",
      "[CV] END learning_rate=0.05, max_depth=10, min_child_weight=7, n_estimators=1000, subsample=0.7; total time=   0.9s\n",
      "[CV] END learning_rate=0.05, max_depth=10, min_child_weight=7, n_estimators=1000, subsample=0.7; total time=   0.9s\n",
      "[CV] END learning_rate=0.05, max_depth=10, min_child_weight=7, n_estimators=1000, subsample=0.7; total time=   0.9s\n",
      "[CV] END learning_rate=0.05, max_depth=10, min_child_weight=7, n_estimators=1000, subsample=0.7; total time=   0.9s\n",
      "[CV] END learning_rate=0.05, max_depth=10, min_child_weight=7, n_estimators=1000, subsample=0.7; total time=   0.9s\n",
      "[CV] END learning_rate=0.3, max_depth=10, min_child_weight=3, n_estimators=100, subsample=0.8; total time=   0.1s\n",
      "[CV] END learning_rate=0.3, max_depth=10, min_child_weight=3, n_estimators=100, subsample=0.8; total time=   0.1s\n",
      "[CV] END learning_rate=0.3, max_depth=10, min_child_weight=3, n_estimators=100, subsample=0.8; total time=   0.1s\n",
      "[CV] END learning_rate=0.3, max_depth=10, min_child_weight=3, n_estimators=100, subsample=0.8; total time=   0.1s\n",
      "[CV] END learning_rate=0.3, max_depth=10, min_child_weight=3, n_estimators=100, subsample=0.8; total time=   0.1s\n",
      "[CV] END learning_rate=0.3, max_depth=5, min_child_weight=6, n_estimators=500, subsample=0.6; total time=   0.2s\n",
      "[CV] END learning_rate=0.3, max_depth=5, min_child_weight=6, n_estimators=500, subsample=0.6; total time=   0.2s\n",
      "[CV] END learning_rate=0.3, max_depth=5, min_child_weight=6, n_estimators=500, subsample=0.6; total time=   0.3s\n",
      "[CV] END learning_rate=0.3, max_depth=5, min_child_weight=6, n_estimators=500, subsample=0.6; total time=   0.2s\n",
      "[CV] END learning_rate=0.3, max_depth=5, min_child_weight=6, n_estimators=500, subsample=0.6; total time=   0.3s\n",
      "[CV] END learning_rate=0.2, max_depth=25, min_child_weight=7, n_estimators=100, subsample=0.6; total time=   0.0s\n",
      "[CV] END learning_rate=0.2, max_depth=25, min_child_weight=7, n_estimators=100, subsample=0.6; total time=   0.0s\n",
      "[CV] END learning_rate=0.2, max_depth=25, min_child_weight=7, n_estimators=100, subsample=0.6; total time=   0.0s\n",
      "[CV] END learning_rate=0.2, max_depth=25, min_child_weight=7, n_estimators=100, subsample=0.6; total time=   0.0s\n",
      "[CV] END learning_rate=0.2, max_depth=25, min_child_weight=7, n_estimators=100, subsample=0.6; total time=   0.0s\n",
      "[CV] END learning_rate=0.1, max_depth=10, min_child_weight=5, n_estimators=900, subsample=0.6; total time=   0.8s\n",
      "[CV] END learning_rate=0.1, max_depth=10, min_child_weight=5, n_estimators=900, subsample=0.6; total time=   0.8s\n",
      "[CV] END learning_rate=0.1, max_depth=10, min_child_weight=5, n_estimators=900, subsample=0.6; total time=   0.8s\n",
      "[CV] END learning_rate=0.1, max_depth=10, min_child_weight=5, n_estimators=900, subsample=0.6; total time=   0.8s\n",
      "[CV] END learning_rate=0.1, max_depth=10, min_child_weight=5, n_estimators=900, subsample=0.6; total time=   0.9s\n",
      "[CV] END learning_rate=0.3, max_depth=15, min_child_weight=6, n_estimators=500, subsample=0.7; total time=   0.5s\n",
      "[CV] END learning_rate=0.3, max_depth=15, min_child_weight=6, n_estimators=500, subsample=0.7; total time=   0.5s\n",
      "[CV] END learning_rate=0.3, max_depth=15, min_child_weight=6, n_estimators=500, subsample=0.7; total time=   0.5s\n",
      "[CV] END learning_rate=0.3, max_depth=15, min_child_weight=6, n_estimators=500, subsample=0.7; total time=   0.5s\n",
      "[CV] END learning_rate=0.3, max_depth=15, min_child_weight=6, n_estimators=500, subsample=0.7; total time=   0.5s\n",
      "[CV] END learning_rate=0.2, max_depth=5, min_child_weight=5, n_estimators=1000, subsample=0.7; total time=   0.6s\n",
      "[CV] END learning_rate=0.2, max_depth=5, min_child_weight=5, n_estimators=1000, subsample=0.7; total time=   0.5s\n",
      "[CV] END learning_rate=0.2, max_depth=5, min_child_weight=5, n_estimators=1000, subsample=0.7; total time=   0.5s\n",
      "[CV] END learning_rate=0.2, max_depth=5, min_child_weight=5, n_estimators=1000, subsample=0.7; total time=   0.5s\n",
      "[CV] END learning_rate=0.2, max_depth=5, min_child_weight=5, n_estimators=1000, subsample=0.7; total time=   0.6s\n",
      "[CV] END learning_rate=0.3, max_depth=15, min_child_weight=5, n_estimators=800, subsample=0.7; total time=   0.6s\n",
      "[CV] END learning_rate=0.3, max_depth=15, min_child_weight=5, n_estimators=800, subsample=0.7; total time=   0.9s\n",
      "[CV] END learning_rate=0.3, max_depth=15, min_child_weight=5, n_estimators=800, subsample=0.7; total time=   0.8s\n",
      "[CV] END learning_rate=0.3, max_depth=15, min_child_weight=5, n_estimators=800, subsample=0.7; total time=   0.9s\n",
      "[CV] END learning_rate=0.3, max_depth=15, min_child_weight=5, n_estimators=800, subsample=0.7; total time=   0.7s\n",
      "[CV] END learning_rate=0.05, max_depth=30, min_child_weight=7, n_estimators=200, subsample=0.7; total time=   0.2s\n",
      "[CV] END learning_rate=0.05, max_depth=30, min_child_weight=7, n_estimators=200, subsample=0.7; total time=   0.2s\n",
      "[CV] END learning_rate=0.05, max_depth=30, min_child_weight=7, n_estimators=200, subsample=0.7; total time=   0.2s\n",
      "[CV] END learning_rate=0.05, max_depth=30, min_child_weight=7, n_estimators=200, subsample=0.7; total time=   0.2s\n",
      "[CV] END learning_rate=0.05, max_depth=30, min_child_weight=7, n_estimators=200, subsample=0.7; total time=   0.2s\n",
      "[CV] END learning_rate=0.05, max_depth=15, min_child_weight=3, n_estimators=800, subsample=0.7; total time=   1.3s\n",
      "[CV] END learning_rate=0.05, max_depth=15, min_child_weight=3, n_estimators=800, subsample=0.7; total time=   1.3s\n",
      "[CV] END learning_rate=0.05, max_depth=15, min_child_weight=3, n_estimators=800, subsample=0.7; total time=   1.3s\n",
      "[CV] END learning_rate=0.05, max_depth=15, min_child_weight=3, n_estimators=800, subsample=0.7; total time=   1.3s\n",
      "[CV] END learning_rate=0.05, max_depth=15, min_child_weight=3, n_estimators=800, subsample=0.7; total time=   1.4s\n",
      "[CV] END learning_rate=0.05, max_depth=30, min_child_weight=4, n_estimators=800, subsample=0.7; total time=   1.4s\n",
      "[CV] END learning_rate=0.05, max_depth=30, min_child_weight=4, n_estimators=800, subsample=0.7; total time=   1.3s\n",
      "[CV] END learning_rate=0.05, max_depth=30, min_child_weight=4, n_estimators=800, subsample=0.7; total time=   1.3s\n",
      "[CV] END learning_rate=0.05, max_depth=30, min_child_weight=4, n_estimators=800, subsample=0.7; total time=   1.3s\n",
      "[CV] END learning_rate=0.05, max_depth=30, min_child_weight=4, n_estimators=800, subsample=0.7; total time=   1.3s\n",
      "[CV] END learning_rate=0.5, max_depth=30, min_child_weight=7, n_estimators=1100, subsample=0.7; total time=   0.6s\n",
      "[CV] END learning_rate=0.5, max_depth=30, min_child_weight=7, n_estimators=1100, subsample=0.7; total time=   1.0s\n"
     ]
    },
    {
     "name": "stdout",
     "output_type": "stream",
     "text": [
      "[CV] END learning_rate=0.5, max_depth=30, min_child_weight=7, n_estimators=1100, subsample=0.7; total time=   0.8s\n",
      "[CV] END learning_rate=0.5, max_depth=30, min_child_weight=7, n_estimators=1100, subsample=0.7; total time=   1.1s\n",
      "[CV] END learning_rate=0.5, max_depth=30, min_child_weight=7, n_estimators=1100, subsample=0.7; total time=   0.8s\n",
      "[CV] END learning_rate=0.3, max_depth=25, min_child_weight=5, n_estimators=800, subsample=0.6; total time=   0.9s\n",
      "[CV] END learning_rate=0.3, max_depth=25, min_child_weight=5, n_estimators=800, subsample=0.6; total time=   0.8s\n",
      "[CV] END learning_rate=0.3, max_depth=25, min_child_weight=5, n_estimators=800, subsample=0.6; total time=   0.9s\n",
      "[CV] END learning_rate=0.3, max_depth=25, min_child_weight=5, n_estimators=800, subsample=0.6; total time=   1.0s\n",
      "[CV] END learning_rate=0.3, max_depth=25, min_child_weight=5, n_estimators=800, subsample=0.6; total time=   0.8s\n",
      "[CV] END learning_rate=0.1, max_depth=15, min_child_weight=7, n_estimators=600, subsample=0.6; total time=   0.6s\n",
      "[CV] END learning_rate=0.1, max_depth=15, min_child_weight=7, n_estimators=600, subsample=0.6; total time=   0.6s\n",
      "[CV] END learning_rate=0.1, max_depth=15, min_child_weight=7, n_estimators=600, subsample=0.6; total time=   0.6s\n",
      "[CV] END learning_rate=0.1, max_depth=15, min_child_weight=7, n_estimators=600, subsample=0.6; total time=   0.6s\n",
      "[CV] END learning_rate=0.1, max_depth=15, min_child_weight=7, n_estimators=600, subsample=0.6; total time=   0.6s\n",
      "[CV] END learning_rate=0.3, max_depth=30, min_child_weight=4, n_estimators=500, subsample=0.8; total time=   0.7s\n",
      "[CV] END learning_rate=0.3, max_depth=30, min_child_weight=4, n_estimators=500, subsample=0.8; total time=   0.5s\n",
      "[CV] END learning_rate=0.3, max_depth=30, min_child_weight=4, n_estimators=500, subsample=0.8; total time=   0.4s\n",
      "[CV] END learning_rate=0.3, max_depth=30, min_child_weight=4, n_estimators=500, subsample=0.8; total time=   0.6s\n",
      "[CV] END learning_rate=0.3, max_depth=30, min_child_weight=4, n_estimators=500, subsample=0.8; total time=   0.4s\n",
      "[CV] END learning_rate=0.3, max_depth=10, min_child_weight=3, n_estimators=500, subsample=0.8; total time=   0.3s\n",
      "[CV] END learning_rate=0.3, max_depth=10, min_child_weight=3, n_estimators=500, subsample=0.8; total time=   0.3s\n",
      "[CV] END learning_rate=0.3, max_depth=10, min_child_weight=3, n_estimators=500, subsample=0.8; total time=   0.3s\n",
      "[CV] END learning_rate=0.3, max_depth=10, min_child_weight=3, n_estimators=500, subsample=0.8; total time=   0.3s\n",
      "[CV] END learning_rate=0.3, max_depth=10, min_child_weight=3, n_estimators=500, subsample=0.8; total time=   0.3s\n",
      "[CV] END learning_rate=0.5, max_depth=30, min_child_weight=6, n_estimators=300, subsample=0.6; total time=   0.3s\n",
      "[CV] END learning_rate=0.5, max_depth=30, min_child_weight=6, n_estimators=300, subsample=0.6; total time=   0.3s\n",
      "[CV] END learning_rate=0.5, max_depth=30, min_child_weight=6, n_estimators=300, subsample=0.6; total time=   0.3s\n",
      "[CV] END learning_rate=0.5, max_depth=30, min_child_weight=6, n_estimators=300, subsample=0.6; total time=   0.3s\n",
      "[CV] END learning_rate=0.5, max_depth=30, min_child_weight=6, n_estimators=300, subsample=0.6; total time=   0.3s\n",
      "[CV] END learning_rate=0.5, max_depth=30, min_child_weight=7, n_estimators=700, subsample=0.8; total time=   0.5s\n",
      "[CV] END learning_rate=0.5, max_depth=30, min_child_weight=7, n_estimators=700, subsample=0.8; total time=   0.6s\n",
      "[CV] END learning_rate=0.5, max_depth=30, min_child_weight=7, n_estimators=700, subsample=0.8; total time=   0.7s\n",
      "[CV] END learning_rate=0.5, max_depth=30, min_child_weight=7, n_estimators=700, subsample=0.8; total time=   0.4s\n",
      "[CV] END learning_rate=0.5, max_depth=30, min_child_weight=7, n_estimators=700, subsample=0.8; total time=   0.6s\n",
      "[CV] END learning_rate=0.6, max_depth=20, min_child_weight=3, n_estimators=1100, subsample=0.8; total time=   0.4s\n",
      "[CV] END learning_rate=0.6, max_depth=20, min_child_weight=3, n_estimators=1100, subsample=0.8; total time=   0.4s\n",
      "[CV] END learning_rate=0.6, max_depth=20, min_child_weight=3, n_estimators=1100, subsample=0.8; total time=   0.4s\n",
      "[CV] END learning_rate=0.6, max_depth=20, min_child_weight=3, n_estimators=1100, subsample=0.8; total time=   0.4s\n",
      "[CV] END learning_rate=0.6, max_depth=20, min_child_weight=3, n_estimators=1100, subsample=0.8; total time=   0.4s\n",
      "[CV] END learning_rate=0.2, max_depth=10, min_child_weight=5, n_estimators=1200, subsample=0.6; total time=   0.9s\n",
      "[CV] END learning_rate=0.2, max_depth=10, min_child_weight=5, n_estimators=1200, subsample=0.6; total time=   0.8s\n",
      "[CV] END learning_rate=0.2, max_depth=10, min_child_weight=5, n_estimators=1200, subsample=0.6; total time=   0.9s\n",
      "[CV] END learning_rate=0.2, max_depth=10, min_child_weight=5, n_estimators=1200, subsample=0.6; total time=   1.1s\n",
      "[CV] END learning_rate=0.2, max_depth=10, min_child_weight=5, n_estimators=1200, subsample=0.6; total time=   0.9s\n",
      "[CV] END learning_rate=0.1, max_depth=30, min_child_weight=3, n_estimators=800, subsample=0.6; total time=   1.4s\n",
      "[CV] END learning_rate=0.1, max_depth=30, min_child_weight=3, n_estimators=800, subsample=0.6; total time=   1.4s\n",
      "[CV] END learning_rate=0.1, max_depth=30, min_child_weight=3, n_estimators=800, subsample=0.6; total time=   1.5s\n",
      "[CV] END learning_rate=0.1, max_depth=30, min_child_weight=3, n_estimators=800, subsample=0.6; total time=   1.4s\n",
      "[CV] END learning_rate=0.1, max_depth=30, min_child_weight=3, n_estimators=800, subsample=0.6; total time=   1.3s\n",
      "[CV] END learning_rate=0.5, max_depth=30, min_child_weight=4, n_estimators=400, subsample=0.7; total time=   0.4s\n",
      "[CV] END learning_rate=0.5, max_depth=30, min_child_weight=4, n_estimators=400, subsample=0.7; total time=   0.3s\n",
      "[CV] END learning_rate=0.5, max_depth=30, min_child_weight=4, n_estimators=400, subsample=0.7; total time=   0.3s\n",
      "[CV] END learning_rate=0.5, max_depth=30, min_child_weight=4, n_estimators=400, subsample=0.7; total time=   0.5s\n",
      "[CV] END learning_rate=0.5, max_depth=30, min_child_weight=4, n_estimators=400, subsample=0.7; total time=   0.4s\n",
      "[CV] END learning_rate=0.1, max_depth=30, min_child_weight=4, n_estimators=300, subsample=0.8; total time=   0.5s\n",
      "[CV] END learning_rate=0.1, max_depth=30, min_child_weight=4, n_estimators=300, subsample=0.8; total time=   0.5s\n",
      "[CV] END learning_rate=0.1, max_depth=30, min_child_weight=4, n_estimators=300, subsample=0.8; total time=   0.5s\n",
      "[CV] END learning_rate=0.1, max_depth=30, min_child_weight=4, n_estimators=300, subsample=0.8; total time=   0.5s\n",
      "[CV] END learning_rate=0.1, max_depth=30, min_child_weight=4, n_estimators=300, subsample=0.8; total time=   0.5s\n",
      "[CV] END learning_rate=0.3, max_depth=20, min_child_weight=7, n_estimators=300, subsample=0.6; total time=   0.3s\n",
      "[CV] END learning_rate=0.3, max_depth=20, min_child_weight=7, n_estimators=300, subsample=0.6; total time=   0.3s\n",
      "[CV] END learning_rate=0.3, max_depth=20, min_child_weight=7, n_estimators=300, subsample=0.6; total time=   0.3s\n",
      "[CV] END learning_rate=0.3, max_depth=20, min_child_weight=7, n_estimators=300, subsample=0.6; total time=   0.3s\n",
      "[CV] END learning_rate=0.3, max_depth=20, min_child_weight=7, n_estimators=300, subsample=0.6; total time=   0.3s\n",
      "[CV] END learning_rate=0.3, max_depth=30, min_child_weight=3, n_estimators=1200, subsample=0.6; total time=   0.7s\n",
      "[CV] END learning_rate=0.3, max_depth=30, min_child_weight=3, n_estimators=1200, subsample=0.6; total time=   0.6s\n",
      "[CV] END learning_rate=0.3, max_depth=30, min_child_weight=3, n_estimators=1200, subsample=0.6; total time=   0.8s\n",
      "[CV] END learning_rate=0.3, max_depth=30, min_child_weight=3, n_estimators=1200, subsample=0.6; total time=   0.7s\n",
      "[CV] END learning_rate=0.3, max_depth=30, min_child_weight=3, n_estimators=1200, subsample=0.6; total time=   0.7s\n",
      "[CV] END learning_rate=0.1, max_depth=5, min_child_weight=4, n_estimators=1200, subsample=0.7; total time=   0.7s\n",
      "[CV] END learning_rate=0.1, max_depth=5, min_child_weight=4, n_estimators=1200, subsample=0.7; total time=   0.7s\n",
      "[CV] END learning_rate=0.1, max_depth=5, min_child_weight=4, n_estimators=1200, subsample=0.7; total time=   0.7s\n",
      "[CV] END learning_rate=0.1, max_depth=5, min_child_weight=4, n_estimators=1200, subsample=0.7; total time=   0.7s\n"
     ]
    },
    {
     "name": "stdout",
     "output_type": "stream",
     "text": [
      "[CV] END learning_rate=0.1, max_depth=5, min_child_weight=4, n_estimators=1200, subsample=0.7; total time=   0.7s\n",
      "[CV] END learning_rate=0.5, max_depth=20, min_child_weight=6, n_estimators=100, subsample=0.8; total time=   0.1s\n",
      "[CV] END learning_rate=0.5, max_depth=20, min_child_weight=6, n_estimators=100, subsample=0.8; total time=   0.1s\n",
      "[CV] END learning_rate=0.5, max_depth=20, min_child_weight=6, n_estimators=100, subsample=0.8; total time=   0.1s\n",
      "[CV] END learning_rate=0.5, max_depth=20, min_child_weight=6, n_estimators=100, subsample=0.8; total time=   0.1s\n",
      "[CV] END learning_rate=0.5, max_depth=20, min_child_weight=6, n_estimators=100, subsample=0.8; total time=   0.1s\n",
      "[CV] END learning_rate=0.6, max_depth=25, min_child_weight=7, n_estimators=800, subsample=0.7; total time=   0.5s\n",
      "[CV] END learning_rate=0.6, max_depth=25, min_child_weight=7, n_estimators=800, subsample=0.7; total time=   0.5s\n",
      "[CV] END learning_rate=0.6, max_depth=25, min_child_weight=7, n_estimators=800, subsample=0.7; total time=   0.5s\n",
      "[CV] END learning_rate=0.6, max_depth=25, min_child_weight=7, n_estimators=800, subsample=0.7; total time=   0.9s\n",
      "[CV] END learning_rate=0.6, max_depth=25, min_child_weight=7, n_estimators=800, subsample=0.7; total time=   0.8s\n",
      "[CV] END learning_rate=0.1, max_depth=10, min_child_weight=5, n_estimators=200, subsample=0.7; total time=   0.1s\n",
      "[CV] END learning_rate=0.1, max_depth=10, min_child_weight=5, n_estimators=200, subsample=0.7; total time=   0.2s\n",
      "[CV] END learning_rate=0.1, max_depth=10, min_child_weight=5, n_estimators=200, subsample=0.7; total time=   0.1s\n",
      "[CV] END learning_rate=0.1, max_depth=10, min_child_weight=5, n_estimators=200, subsample=0.7; total time=   0.2s\n",
      "[CV] END learning_rate=0.1, max_depth=10, min_child_weight=5, n_estimators=200, subsample=0.7; total time=   0.2s\n",
      "[CV] END learning_rate=0.05, max_depth=30, min_child_weight=7, n_estimators=200, subsample=0.8; total time=   0.2s\n",
      "[CV] END learning_rate=0.05, max_depth=30, min_child_weight=7, n_estimators=200, subsample=0.8; total time=   0.2s\n",
      "[CV] END learning_rate=0.05, max_depth=30, min_child_weight=7, n_estimators=200, subsample=0.8; total time=   0.2s\n",
      "[CV] END learning_rate=0.05, max_depth=30, min_child_weight=7, n_estimators=200, subsample=0.8; total time=   0.2s\n",
      "[CV] END learning_rate=0.05, max_depth=30, min_child_weight=7, n_estimators=200, subsample=0.8; total time=   0.2s\n",
      "[CV] END learning_rate=0.1, max_depth=5, min_child_weight=6, n_estimators=1200, subsample=0.7; total time=   0.7s\n",
      "[CV] END learning_rate=0.1, max_depth=5, min_child_weight=6, n_estimators=1200, subsample=0.7; total time=   0.7s\n",
      "[CV] END learning_rate=0.1, max_depth=5, min_child_weight=6, n_estimators=1200, subsample=0.7; total time=   0.7s\n",
      "[CV] END learning_rate=0.1, max_depth=5, min_child_weight=6, n_estimators=1200, subsample=0.7; total time=   0.7s\n",
      "[CV] END learning_rate=0.1, max_depth=5, min_child_weight=6, n_estimators=1200, subsample=0.7; total time=   0.6s\n",
      "[CV] END learning_rate=0.05, max_depth=15, min_child_weight=6, n_estimators=100, subsample=0.6; total time=   0.0s\n",
      "[CV] END learning_rate=0.05, max_depth=15, min_child_weight=6, n_estimators=100, subsample=0.6; total time=   0.0s\n",
      "[CV] END learning_rate=0.05, max_depth=15, min_child_weight=6, n_estimators=100, subsample=0.6; total time=   0.0s\n",
      "[CV] END learning_rate=0.05, max_depth=15, min_child_weight=6, n_estimators=100, subsample=0.6; total time=   0.0s\n",
      "[CV] END learning_rate=0.05, max_depth=15, min_child_weight=6, n_estimators=100, subsample=0.6; total time=   0.0s\n",
      "[CV] END learning_rate=0.1, max_depth=15, min_child_weight=7, n_estimators=1000, subsample=0.6; total time=   1.1s\n",
      "[CV] END learning_rate=0.1, max_depth=15, min_child_weight=7, n_estimators=1000, subsample=0.6; total time=   1.0s\n",
      "[CV] END learning_rate=0.1, max_depth=15, min_child_weight=7, n_estimators=1000, subsample=0.6; total time=   1.0s\n",
      "[CV] END learning_rate=0.1, max_depth=15, min_child_weight=7, n_estimators=1000, subsample=0.6; total time=   1.0s\n",
      "[CV] END learning_rate=0.1, max_depth=15, min_child_weight=7, n_estimators=1000, subsample=0.6; total time=   1.0s\n",
      "[CV] END learning_rate=0.6, max_depth=5, min_child_weight=7, n_estimators=400, subsample=0.7; total time=   0.2s\n",
      "[CV] END learning_rate=0.6, max_depth=5, min_child_weight=7, n_estimators=400, subsample=0.7; total time=   0.2s\n",
      "[CV] END learning_rate=0.6, max_depth=5, min_child_weight=7, n_estimators=400, subsample=0.7; total time=   0.2s\n",
      "[CV] END learning_rate=0.6, max_depth=5, min_child_weight=7, n_estimators=400, subsample=0.7; total time=   0.2s\n",
      "[CV] END learning_rate=0.6, max_depth=5, min_child_weight=7, n_estimators=400, subsample=0.7; total time=   0.2s\n",
      "[CV] END learning_rate=0.3, max_depth=15, min_child_weight=7, n_estimators=900, subsample=0.8; total time=   0.8s\n",
      "[CV] END learning_rate=0.3, max_depth=15, min_child_weight=7, n_estimators=900, subsample=0.8; total time=   0.9s\n",
      "[CV] END learning_rate=0.3, max_depth=15, min_child_weight=7, n_estimators=900, subsample=0.8; total time=   1.0s\n",
      "[CV] END learning_rate=0.3, max_depth=15, min_child_weight=7, n_estimators=900, subsample=0.8; total time=   1.0s\n",
      "[CV] END learning_rate=0.3, max_depth=15, min_child_weight=7, n_estimators=900, subsample=0.8; total time=   0.8s\n",
      "[CV] END learning_rate=0.3, max_depth=5, min_child_weight=5, n_estimators=300, subsample=0.6; total time=   0.1s\n",
      "[CV] END learning_rate=0.3, max_depth=5, min_child_weight=5, n_estimators=300, subsample=0.6; total time=   0.1s\n",
      "[CV] END learning_rate=0.3, max_depth=5, min_child_weight=5, n_estimators=300, subsample=0.6; total time=   0.1s\n",
      "[CV] END learning_rate=0.3, max_depth=5, min_child_weight=5, n_estimators=300, subsample=0.6; total time=   0.1s\n",
      "[CV] END learning_rate=0.3, max_depth=5, min_child_weight=5, n_estimators=300, subsample=0.6; total time=   0.1s\n",
      "[CV] END learning_rate=0.6, max_depth=10, min_child_weight=7, n_estimators=900, subsample=0.7; total time=   0.4s\n",
      "[CV] END learning_rate=0.6, max_depth=10, min_child_weight=7, n_estimators=900, subsample=0.7; total time=   0.5s\n",
      "[CV] END learning_rate=0.6, max_depth=10, min_child_weight=7, n_estimators=900, subsample=0.7; total time=   0.4s\n",
      "[CV] END learning_rate=0.6, max_depth=10, min_child_weight=7, n_estimators=900, subsample=0.7; total time=   0.6s\n",
      "[CV] END learning_rate=0.6, max_depth=10, min_child_weight=7, n_estimators=900, subsample=0.7; total time=   0.6s\n",
      "[CV] END learning_rate=0.3, max_depth=20, min_child_weight=7, n_estimators=500, subsample=0.8; total time=   0.6s\n",
      "[CV] END learning_rate=0.3, max_depth=20, min_child_weight=7, n_estimators=500, subsample=0.8; total time=   0.6s\n",
      "[CV] END learning_rate=0.3, max_depth=20, min_child_weight=7, n_estimators=500, subsample=0.8; total time=   0.6s\n",
      "[CV] END learning_rate=0.3, max_depth=20, min_child_weight=7, n_estimators=500, subsample=0.8; total time=   0.6s\n",
      "[CV] END learning_rate=0.3, max_depth=20, min_child_weight=7, n_estimators=500, subsample=0.8; total time=   0.6s\n",
      "[CV] END learning_rate=0.3, max_depth=5, min_child_weight=7, n_estimators=1000, subsample=0.8; total time=   0.5s\n",
      "[CV] END learning_rate=0.3, max_depth=5, min_child_weight=7, n_estimators=1000, subsample=0.8; total time=   0.5s\n",
      "[CV] END learning_rate=0.3, max_depth=5, min_child_weight=7, n_estimators=1000, subsample=0.8; total time=   0.5s\n",
      "[CV] END learning_rate=0.3, max_depth=5, min_child_weight=7, n_estimators=1000, subsample=0.8; total time=   0.5s\n",
      "[CV] END learning_rate=0.3, max_depth=5, min_child_weight=7, n_estimators=1000, subsample=0.8; total time=   0.5s\n",
      "[CV] END learning_rate=0.05, max_depth=5, min_child_weight=3, n_estimators=1100, subsample=0.6; total time=   0.6s\n",
      "[CV] END learning_rate=0.05, max_depth=5, min_child_weight=3, n_estimators=1100, subsample=0.6; total time=   0.7s\n",
      "[CV] END learning_rate=0.05, max_depth=5, min_child_weight=3, n_estimators=1100, subsample=0.6; total time=   0.7s\n",
      "[CV] END learning_rate=0.05, max_depth=5, min_child_weight=3, n_estimators=1100, subsample=0.6; total time=   0.6s\n",
      "[CV] END learning_rate=0.05, max_depth=5, min_child_weight=3, n_estimators=1100, subsample=0.6; total time=   0.7s\n",
      "[CV] END learning_rate=0.05, max_depth=30, min_child_weight=3, n_estimators=1100, subsample=0.8; total time=   2.1s\n"
     ]
    },
    {
     "name": "stdout",
     "output_type": "stream",
     "text": [
      "[CV] END learning_rate=0.05, max_depth=30, min_child_weight=3, n_estimators=1100, subsample=0.8; total time=   2.1s\n",
      "[CV] END learning_rate=0.05, max_depth=30, min_child_weight=3, n_estimators=1100, subsample=0.8; total time=   2.2s\n",
      "[CV] END learning_rate=0.05, max_depth=30, min_child_weight=3, n_estimators=1100, subsample=0.8; total time=   2.2s\n",
      "[CV] END learning_rate=0.05, max_depth=30, min_child_weight=3, n_estimators=1100, subsample=0.8; total time=   2.1s\n",
      "[CV] END learning_rate=0.2, max_depth=30, min_child_weight=5, n_estimators=1200, subsample=0.6; total time=   1.4s\n",
      "[CV] END learning_rate=0.2, max_depth=30, min_child_weight=5, n_estimators=1200, subsample=0.6; total time=   1.2s\n",
      "[CV] END learning_rate=0.2, max_depth=30, min_child_weight=5, n_estimators=1200, subsample=0.6; total time=   1.3s\n",
      "[CV] END learning_rate=0.2, max_depth=30, min_child_weight=5, n_estimators=1200, subsample=0.6; total time=   1.6s\n",
      "[CV] END learning_rate=0.2, max_depth=30, min_child_weight=5, n_estimators=1200, subsample=0.6; total time=   1.3s\n",
      "[CV] END learning_rate=0.2, max_depth=10, min_child_weight=5, n_estimators=1200, subsample=0.8; total time=   0.6s\n",
      "[CV] END learning_rate=0.2, max_depth=10, min_child_weight=5, n_estimators=1200, subsample=0.8; total time=   0.8s\n",
      "[CV] END learning_rate=0.2, max_depth=10, min_child_weight=5, n_estimators=1200, subsample=0.8; total time=   0.9s\n",
      "[CV] END learning_rate=0.2, max_depth=10, min_child_weight=5, n_estimators=1200, subsample=0.8; total time=   1.1s\n",
      "[CV] END learning_rate=0.2, max_depth=10, min_child_weight=5, n_estimators=1200, subsample=0.8; total time=   0.6s\n",
      "[CV] END learning_rate=0.6, max_depth=10, min_child_weight=4, n_estimators=900, subsample=0.6; total time=   0.4s\n",
      "[CV] END learning_rate=0.6, max_depth=10, min_child_weight=4, n_estimators=900, subsample=0.6; total time=   0.3s\n",
      "[CV] END learning_rate=0.6, max_depth=10, min_child_weight=4, n_estimators=900, subsample=0.6; total time=   0.3s\n",
      "[CV] END learning_rate=0.6, max_depth=10, min_child_weight=4, n_estimators=900, subsample=0.6; total time=   0.3s\n",
      "[CV] END learning_rate=0.6, max_depth=10, min_child_weight=4, n_estimators=900, subsample=0.6; total time=   0.4s\n",
      "[CV] END learning_rate=0.1, max_depth=20, min_child_weight=6, n_estimators=1100, subsample=0.8; total time=   1.5s\n",
      "[CV] END learning_rate=0.1, max_depth=20, min_child_weight=6, n_estimators=1100, subsample=0.8; total time=   1.5s\n",
      "[CV] END learning_rate=0.1, max_depth=20, min_child_weight=6, n_estimators=1100, subsample=0.8; total time=   1.5s\n",
      "[CV] END learning_rate=0.1, max_depth=20, min_child_weight=6, n_estimators=1100, subsample=0.8; total time=   1.5s\n",
      "[CV] END learning_rate=0.1, max_depth=20, min_child_weight=6, n_estimators=1100, subsample=0.8; total time=   1.5s\n",
      "[CV] END learning_rate=0.05, max_depth=10, min_child_weight=7, n_estimators=800, subsample=0.6; total time=   0.6s\n",
      "[CV] END learning_rate=0.05, max_depth=10, min_child_weight=7, n_estimators=800, subsample=0.6; total time=   0.7s\n",
      "[CV] END learning_rate=0.05, max_depth=10, min_child_weight=7, n_estimators=800, subsample=0.6; total time=   0.7s\n",
      "[CV] END learning_rate=0.05, max_depth=10, min_child_weight=7, n_estimators=800, subsample=0.6; total time=   0.7s\n",
      "[CV] END learning_rate=0.05, max_depth=10, min_child_weight=7, n_estimators=800, subsample=0.6; total time=   0.7s\n",
      "[CV] END learning_rate=0.5, max_depth=20, min_child_weight=6, n_estimators=1200, subsample=0.8; total time=   0.5s\n",
      "[CV] END learning_rate=0.5, max_depth=20, min_child_weight=6, n_estimators=1200, subsample=0.8; total time=   0.7s\n",
      "[CV] END learning_rate=0.5, max_depth=20, min_child_weight=6, n_estimators=1200, subsample=0.8; total time=   0.5s\n",
      "[CV] END learning_rate=0.5, max_depth=20, min_child_weight=6, n_estimators=1200, subsample=0.8; total time=   0.9s\n",
      "[CV] END learning_rate=0.5, max_depth=20, min_child_weight=6, n_estimators=1200, subsample=0.8; total time=   0.7s\n",
      "[CV] END learning_rate=0.1, max_depth=15, min_child_weight=7, n_estimators=900, subsample=0.7; total time=   1.0s\n",
      "[CV] END learning_rate=0.1, max_depth=15, min_child_weight=7, n_estimators=900, subsample=0.7; total time=   1.0s\n",
      "[CV] END learning_rate=0.1, max_depth=15, min_child_weight=7, n_estimators=900, subsample=0.7; total time=   1.0s\n",
      "[CV] END learning_rate=0.1, max_depth=15, min_child_weight=7, n_estimators=900, subsample=0.7; total time=   1.0s\n",
      "[CV] END learning_rate=0.1, max_depth=15, min_child_weight=7, n_estimators=900, subsample=0.7; total time=   1.0s\n",
      "[CV] END learning_rate=0.6, max_depth=30, min_child_weight=7, n_estimators=100, subsample=0.7; total time=   0.0s\n",
      "[CV] END learning_rate=0.6, max_depth=30, min_child_weight=7, n_estimators=100, subsample=0.7; total time=   0.0s\n",
      "[CV] END learning_rate=0.6, max_depth=30, min_child_weight=7, n_estimators=100, subsample=0.7; total time=   0.1s\n",
      "[CV] END learning_rate=0.6, max_depth=30, min_child_weight=7, n_estimators=100, subsample=0.7; total time=   0.1s\n",
      "[CV] END learning_rate=0.6, max_depth=30, min_child_weight=7, n_estimators=100, subsample=0.7; total time=   0.1s\n",
      "[CV] END learning_rate=0.05, max_depth=5, min_child_weight=6, n_estimators=900, subsample=0.7; total time=   0.5s\n",
      "[CV] END learning_rate=0.05, max_depth=5, min_child_weight=6, n_estimators=900, subsample=0.7; total time=   0.5s\n",
      "[CV] END learning_rate=0.05, max_depth=5, min_child_weight=6, n_estimators=900, subsample=0.7; total time=   0.5s\n",
      "[CV] END learning_rate=0.05, max_depth=5, min_child_weight=6, n_estimators=900, subsample=0.7; total time=   0.5s\n",
      "[CV] END learning_rate=0.05, max_depth=5, min_child_weight=6, n_estimators=900, subsample=0.7; total time=   0.5s\n",
      "[CV] END learning_rate=0.5, max_depth=15, min_child_weight=3, n_estimators=1100, subsample=0.8; total time=   0.4s\n",
      "[CV] END learning_rate=0.5, max_depth=15, min_child_weight=3, n_estimators=1100, subsample=0.8; total time=   0.4s\n",
      "[CV] END learning_rate=0.5, max_depth=15, min_child_weight=3, n_estimators=1100, subsample=0.8; total time=   0.4s\n",
      "[CV] END learning_rate=0.5, max_depth=15, min_child_weight=3, n_estimators=1100, subsample=0.8; total time=   0.4s\n",
      "[CV] END learning_rate=0.5, max_depth=15, min_child_weight=3, n_estimators=1100, subsample=0.8; total time=   0.4s\n",
      "[CV] END learning_rate=0.3, max_depth=5, min_child_weight=5, n_estimators=1200, subsample=0.6; total time=   0.6s\n",
      "[CV] END learning_rate=0.3, max_depth=5, min_child_weight=5, n_estimators=1200, subsample=0.6; total time=   0.6s\n",
      "[CV] END learning_rate=0.3, max_depth=5, min_child_weight=5, n_estimators=1200, subsample=0.6; total time=   0.6s\n",
      "[CV] END learning_rate=0.3, max_depth=5, min_child_weight=5, n_estimators=1200, subsample=0.6; total time=   0.6s\n",
      "[CV] END learning_rate=0.3, max_depth=5, min_child_weight=5, n_estimators=1200, subsample=0.6; total time=   0.5s\n",
      "[CV] END learning_rate=0.5, max_depth=15, min_child_weight=6, n_estimators=100, subsample=0.8; total time=   0.0s\n",
      "[CV] END learning_rate=0.5, max_depth=15, min_child_weight=6, n_estimators=100, subsample=0.8; total time=   0.1s\n",
      "[CV] END learning_rate=0.5, max_depth=15, min_child_weight=6, n_estimators=100, subsample=0.8; total time=   0.1s\n",
      "[CV] END learning_rate=0.5, max_depth=15, min_child_weight=6, n_estimators=100, subsample=0.8; total time=   0.1s\n",
      "[CV] END learning_rate=0.5, max_depth=15, min_child_weight=6, n_estimators=100, subsample=0.8; total time=   0.1s\n",
      "[CV] END learning_rate=0.1, max_depth=20, min_child_weight=6, n_estimators=400, subsample=0.7; total time=   0.5s\n",
      "[CV] END learning_rate=0.1, max_depth=20, min_child_weight=6, n_estimators=400, subsample=0.7; total time=   0.5s\n",
      "[CV] END learning_rate=0.1, max_depth=20, min_child_weight=6, n_estimators=400, subsample=0.7; total time=   0.5s\n",
      "[CV] END learning_rate=0.1, max_depth=20, min_child_weight=6, n_estimators=400, subsample=0.7; total time=   0.5s\n",
      "[CV] END learning_rate=0.1, max_depth=20, min_child_weight=6, n_estimators=400, subsample=0.7; total time=   0.5s\n",
      "[CV] END learning_rate=0.3, max_depth=10, min_child_weight=7, n_estimators=800, subsample=0.7; total time=   0.6s\n",
      "[CV] END learning_rate=0.3, max_depth=10, min_child_weight=7, n_estimators=800, subsample=0.7; total time=   0.6s\n",
      "[CV] END learning_rate=0.3, max_depth=10, min_child_weight=7, n_estimators=800, subsample=0.7; total time=   0.6s\n"
     ]
    },
    {
     "name": "stdout",
     "output_type": "stream",
     "text": [
      "[CV] END learning_rate=0.3, max_depth=10, min_child_weight=7, n_estimators=800, subsample=0.7; total time=   0.6s\n",
      "[CV] END learning_rate=0.3, max_depth=10, min_child_weight=7, n_estimators=800, subsample=0.7; total time=   0.6s\n",
      "[CV] END learning_rate=0.05, max_depth=15, min_child_weight=6, n_estimators=300, subsample=0.8; total time=   0.3s\n",
      "[CV] END learning_rate=0.05, max_depth=15, min_child_weight=6, n_estimators=300, subsample=0.8; total time=   0.4s\n",
      "[CV] END learning_rate=0.05, max_depth=15, min_child_weight=6, n_estimators=300, subsample=0.8; total time=   0.3s\n",
      "[CV] END learning_rate=0.05, max_depth=15, min_child_weight=6, n_estimators=300, subsample=0.8; total time=   0.3s\n",
      "[CV] END learning_rate=0.05, max_depth=15, min_child_weight=6, n_estimators=300, subsample=0.8; total time=   0.3s\n",
      "[CV] END learning_rate=0.3, max_depth=20, min_child_weight=5, n_estimators=300, subsample=0.7; total time=   0.4s\n",
      "[CV] END learning_rate=0.3, max_depth=20, min_child_weight=5, n_estimators=300, subsample=0.7; total time=   0.4s\n",
      "[CV] END learning_rate=0.3, max_depth=20, min_child_weight=5, n_estimators=300, subsample=0.7; total time=   0.4s\n",
      "[CV] END learning_rate=0.3, max_depth=20, min_child_weight=5, n_estimators=300, subsample=0.7; total time=   0.4s\n",
      "[CV] END learning_rate=0.3, max_depth=20, min_child_weight=5, n_estimators=300, subsample=0.7; total time=   0.4s\n",
      "[CV] END learning_rate=0.2, max_depth=25, min_child_weight=4, n_estimators=600, subsample=0.6; total time=   0.8s\n",
      "[CV] END learning_rate=0.2, max_depth=25, min_child_weight=4, n_estimators=600, subsample=0.6; total time=   0.8s\n",
      "[CV] END learning_rate=0.2, max_depth=25, min_child_weight=4, n_estimators=600, subsample=0.6; total time=   0.9s\n",
      "[CV] END learning_rate=0.2, max_depth=25, min_child_weight=4, n_estimators=600, subsample=0.6; total time=   0.7s\n",
      "[CV] END learning_rate=0.2, max_depth=25, min_child_weight=4, n_estimators=600, subsample=0.6; total time=   0.8s\n",
      "[CV] END learning_rate=0.5, max_depth=25, min_child_weight=3, n_estimators=200, subsample=0.7; total time=   0.2s\n",
      "[CV] END learning_rate=0.5, max_depth=25, min_child_weight=3, n_estimators=200, subsample=0.7; total time=   0.2s\n",
      "[CV] END learning_rate=0.5, max_depth=25, min_child_weight=3, n_estimators=200, subsample=0.7; total time=   0.2s\n",
      "[CV] END learning_rate=0.5, max_depth=25, min_child_weight=3, n_estimators=200, subsample=0.7; total time=   0.2s\n",
      "[CV] END learning_rate=0.5, max_depth=25, min_child_weight=3, n_estimators=200, subsample=0.7; total time=   0.2s\n",
      "[CV] END learning_rate=0.05, max_depth=20, min_child_weight=3, n_estimators=800, subsample=0.7; total time=   1.5s\n",
      "[CV] END learning_rate=0.05, max_depth=20, min_child_weight=3, n_estimators=800, subsample=0.7; total time=   1.5s\n",
      "[CV] END learning_rate=0.05, max_depth=20, min_child_weight=3, n_estimators=800, subsample=0.7; total time=   1.5s\n",
      "[CV] END learning_rate=0.05, max_depth=20, min_child_weight=3, n_estimators=800, subsample=0.7; total time=   1.5s\n",
      "[CV] END learning_rate=0.05, max_depth=20, min_child_weight=3, n_estimators=800, subsample=0.7; total time=   1.5s\n",
      "[CV] END learning_rate=0.05, max_depth=10, min_child_weight=4, n_estimators=800, subsample=0.8; total time=   0.8s\n",
      "[CV] END learning_rate=0.05, max_depth=10, min_child_weight=4, n_estimators=800, subsample=0.8; total time=   0.9s\n",
      "[CV] END learning_rate=0.05, max_depth=10, min_child_weight=4, n_estimators=800, subsample=0.8; total time=   0.8s\n",
      "[CV] END learning_rate=0.05, max_depth=10, min_child_weight=4, n_estimators=800, subsample=0.8; total time=   0.8s\n",
      "[CV] END learning_rate=0.05, max_depth=10, min_child_weight=4, n_estimators=800, subsample=0.8; total time=   0.9s\n",
      "[CV] END learning_rate=0.6, max_depth=5, min_child_weight=4, n_estimators=600, subsample=0.7; total time=   0.2s\n",
      "[CV] END learning_rate=0.6, max_depth=5, min_child_weight=4, n_estimators=600, subsample=0.7; total time=   0.2s\n",
      "[CV] END learning_rate=0.6, max_depth=5, min_child_weight=4, n_estimators=600, subsample=0.7; total time=   0.2s\n",
      "[CV] END learning_rate=0.6, max_depth=5, min_child_weight=4, n_estimators=600, subsample=0.7; total time=   0.2s\n",
      "[CV] END learning_rate=0.6, max_depth=5, min_child_weight=4, n_estimators=600, subsample=0.7; total time=   0.2s\n",
      "[CV] END learning_rate=0.6, max_depth=30, min_child_weight=5, n_estimators=900, subsample=0.6; total time=   0.6s\n",
      "[CV] END learning_rate=0.6, max_depth=30, min_child_weight=5, n_estimators=900, subsample=0.6; total time=   0.4s\n",
      "[CV] END learning_rate=0.6, max_depth=30, min_child_weight=5, n_estimators=900, subsample=0.6; total time=   0.4s\n",
      "[CV] END learning_rate=0.6, max_depth=30, min_child_weight=5, n_estimators=900, subsample=0.6; total time=   0.6s\n",
      "[CV] END learning_rate=0.6, max_depth=30, min_child_weight=5, n_estimators=900, subsample=0.6; total time=   0.5s\n",
      "[CV] END learning_rate=0.5, max_depth=10, min_child_weight=5, n_estimators=1100, subsample=0.7; total time=   0.4s\n",
      "[CV] END learning_rate=0.5, max_depth=10, min_child_weight=5, n_estimators=1100, subsample=0.7; total time=   0.5s\n",
      "[CV] END learning_rate=0.5, max_depth=10, min_child_weight=5, n_estimators=1100, subsample=0.7; total time=   0.5s\n",
      "[CV] END learning_rate=0.5, max_depth=10, min_child_weight=5, n_estimators=1100, subsample=0.7; total time=   0.5s\n",
      "[CV] END learning_rate=0.5, max_depth=10, min_child_weight=5, n_estimators=1100, subsample=0.7; total time=   0.5s\n",
      "[CV] END learning_rate=0.3, max_depth=5, min_child_weight=3, n_estimators=100, subsample=0.7; total time=   0.0s\n",
      "[CV] END learning_rate=0.3, max_depth=5, min_child_weight=3, n_estimators=100, subsample=0.7; total time=   0.0s\n",
      "[CV] END learning_rate=0.3, max_depth=5, min_child_weight=3, n_estimators=100, subsample=0.7; total time=   0.0s\n",
      "[CV] END learning_rate=0.3, max_depth=5, min_child_weight=3, n_estimators=100, subsample=0.7; total time=   0.0s\n",
      "[CV] END learning_rate=0.3, max_depth=5, min_child_weight=3, n_estimators=100, subsample=0.7; total time=   0.0s\n",
      "[CV] END learning_rate=0.5, max_depth=5, min_child_weight=3, n_estimators=200, subsample=0.7; total time=   0.1s\n",
      "[CV] END learning_rate=0.5, max_depth=5, min_child_weight=3, n_estimators=200, subsample=0.7; total time=   0.1s\n",
      "[CV] END learning_rate=0.5, max_depth=5, min_child_weight=3, n_estimators=200, subsample=0.7; total time=   0.1s\n",
      "[CV] END learning_rate=0.5, max_depth=5, min_child_weight=3, n_estimators=200, subsample=0.7; total time=   0.1s\n",
      "[CV] END learning_rate=0.5, max_depth=5, min_child_weight=3, n_estimators=200, subsample=0.7; total time=   0.1s\n",
      "[CV] END learning_rate=0.05, max_depth=30, min_child_weight=3, n_estimators=900, subsample=0.8; total time=   1.8s\n",
      "[CV] END learning_rate=0.05, max_depth=30, min_child_weight=3, n_estimators=900, subsample=0.8; total time=   1.8s\n",
      "[CV] END learning_rate=0.05, max_depth=30, min_child_weight=3, n_estimators=900, subsample=0.8; total time=   1.8s\n",
      "[CV] END learning_rate=0.05, max_depth=30, min_child_weight=3, n_estimators=900, subsample=0.8; total time=   1.8s\n",
      "[CV] END learning_rate=0.05, max_depth=30, min_child_weight=3, n_estimators=900, subsample=0.8; total time=   1.8s\n",
      "[CV] END learning_rate=0.5, max_depth=30, min_child_weight=7, n_estimators=500, subsample=0.8; total time=   0.4s\n",
      "[CV] END learning_rate=0.5, max_depth=30, min_child_weight=7, n_estimators=500, subsample=0.8; total time=   0.5s\n",
      "[CV] END learning_rate=0.5, max_depth=30, min_child_weight=7, n_estimators=500, subsample=0.8; total time=   0.6s\n",
      "[CV] END learning_rate=0.5, max_depth=30, min_child_weight=7, n_estimators=500, subsample=0.8; total time=   0.4s\n",
      "[CV] END learning_rate=0.5, max_depth=30, min_child_weight=7, n_estimators=500, subsample=0.8; total time=   0.5s\n",
      "[CV] END learning_rate=0.2, max_depth=15, min_child_weight=6, n_estimators=500, subsample=0.7; total time=   0.6s\n",
      "[CV] END learning_rate=0.2, max_depth=15, min_child_weight=6, n_estimators=500, subsample=0.7; total time=   0.6s\n",
      "[CV] END learning_rate=0.2, max_depth=15, min_child_weight=6, n_estimators=500, subsample=0.7; total time=   0.5s\n",
      "[CV] END learning_rate=0.2, max_depth=15, min_child_weight=6, n_estimators=500, subsample=0.7; total time=   0.6s\n",
      "[CV] END learning_rate=0.2, max_depth=15, min_child_weight=6, n_estimators=500, subsample=0.7; total time=   0.6s\n"
     ]
    },
    {
     "name": "stdout",
     "output_type": "stream",
     "text": [
      "[CV] END learning_rate=0.5, max_depth=25, min_child_weight=3, n_estimators=400, subsample=0.6; total time=   0.3s\n",
      "[CV] END learning_rate=0.5, max_depth=25, min_child_weight=3, n_estimators=400, subsample=0.6; total time=   0.3s\n",
      "[CV] END learning_rate=0.5, max_depth=25, min_child_weight=3, n_estimators=400, subsample=0.6; total time=   0.3s\n",
      "[CV] END learning_rate=0.5, max_depth=25, min_child_weight=3, n_estimators=400, subsample=0.6; total time=   0.4s\n",
      "[CV] END learning_rate=0.5, max_depth=25, min_child_weight=3, n_estimators=400, subsample=0.6; total time=   0.3s\n",
      "[CV] END learning_rate=0.5, max_depth=30, min_child_weight=3, n_estimators=900, subsample=0.7; total time=   0.4s\n",
      "[CV] END learning_rate=0.5, max_depth=30, min_child_weight=3, n_estimators=900, subsample=0.7; total time=   0.4s\n",
      "[CV] END learning_rate=0.5, max_depth=30, min_child_weight=3, n_estimators=900, subsample=0.7; total time=   0.4s\n",
      "[CV] END learning_rate=0.5, max_depth=30, min_child_weight=3, n_estimators=900, subsample=0.7; total time=   0.4s\n",
      "[CV] END learning_rate=0.5, max_depth=30, min_child_weight=3, n_estimators=900, subsample=0.7; total time=   0.4s\n",
      "[CV] END learning_rate=0.6, max_depth=25, min_child_weight=6, n_estimators=600, subsample=0.6; total time=   0.6s\n",
      "[CV] END learning_rate=0.6, max_depth=25, min_child_weight=6, n_estimators=600, subsample=0.6; total time=   0.5s\n",
      "[CV] END learning_rate=0.6, max_depth=25, min_child_weight=6, n_estimators=600, subsample=0.6; total time=   0.6s\n",
      "[CV] END learning_rate=0.6, max_depth=25, min_child_weight=6, n_estimators=600, subsample=0.6; total time=   0.5s\n",
      "[CV] END learning_rate=0.6, max_depth=25, min_child_weight=6, n_estimators=600, subsample=0.6; total time=   0.5s\n",
      "[CV] END learning_rate=0.05, max_depth=10, min_child_weight=4, n_estimators=100, subsample=0.6; total time=   0.0s\n",
      "[CV] END learning_rate=0.05, max_depth=10, min_child_weight=4, n_estimators=100, subsample=0.6; total time=   0.0s\n",
      "[CV] END learning_rate=0.05, max_depth=10, min_child_weight=4, n_estimators=100, subsample=0.6; total time=   0.1s\n",
      "[CV] END learning_rate=0.05, max_depth=10, min_child_weight=4, n_estimators=100, subsample=0.6; total time=   0.0s\n",
      "[CV] END learning_rate=0.05, max_depth=10, min_child_weight=4, n_estimators=100, subsample=0.6; total time=   0.0s\n",
      "[CV] END learning_rate=0.2, max_depth=5, min_child_weight=7, n_estimators=700, subsample=0.6; total time=   0.3s\n",
      "[CV] END learning_rate=0.2, max_depth=5, min_child_weight=7, n_estimators=700, subsample=0.6; total time=   0.3s\n",
      "[CV] END learning_rate=0.2, max_depth=5, min_child_weight=7, n_estimators=700, subsample=0.6; total time=   0.3s\n",
      "[CV] END learning_rate=0.2, max_depth=5, min_child_weight=7, n_estimators=700, subsample=0.6; total time=   0.3s\n",
      "[CV] END learning_rate=0.2, max_depth=5, min_child_weight=7, n_estimators=700, subsample=0.6; total time=   0.3s\n",
      "[CV] END learning_rate=0.6, max_depth=30, min_child_weight=4, n_estimators=100, subsample=0.7; total time=   0.1s\n",
      "[CV] END learning_rate=0.6, max_depth=30, min_child_weight=4, n_estimators=100, subsample=0.7; total time=   0.1s\n",
      "[CV] END learning_rate=0.6, max_depth=30, min_child_weight=4, n_estimators=100, subsample=0.7; total time=   0.1s\n",
      "[CV] END learning_rate=0.6, max_depth=30, min_child_weight=4, n_estimators=100, subsample=0.7; total time=   0.1s\n",
      "[CV] END learning_rate=0.6, max_depth=30, min_child_weight=4, n_estimators=100, subsample=0.7; total time=   0.1s\n",
      "[CV] END learning_rate=0.05, max_depth=25, min_child_weight=4, n_estimators=100, subsample=0.7; total time=   0.1s\n",
      "[CV] END learning_rate=0.05, max_depth=25, min_child_weight=4, n_estimators=100, subsample=0.7; total time=   0.1s\n",
      "[CV] END learning_rate=0.05, max_depth=25, min_child_weight=4, n_estimators=100, subsample=0.7; total time=   0.1s\n",
      "[CV] END learning_rate=0.05, max_depth=25, min_child_weight=4, n_estimators=100, subsample=0.7; total time=   0.1s\n",
      "[CV] END learning_rate=0.05, max_depth=25, min_child_weight=4, n_estimators=100, subsample=0.7; total time=   0.1s\n",
      "[CV] END learning_rate=0.05, max_depth=5, min_child_weight=5, n_estimators=900, subsample=0.7; total time=   0.5s\n",
      "[CV] END learning_rate=0.05, max_depth=5, min_child_weight=5, n_estimators=900, subsample=0.7; total time=   0.5s\n",
      "[CV] END learning_rate=0.05, max_depth=5, min_child_weight=5, n_estimators=900, subsample=0.7; total time=   0.5s\n",
      "[CV] END learning_rate=0.05, max_depth=5, min_child_weight=5, n_estimators=900, subsample=0.7; total time=   0.5s\n",
      "[CV] END learning_rate=0.05, max_depth=5, min_child_weight=5, n_estimators=900, subsample=0.7; total time=   0.5s\n",
      "[CV] END learning_rate=0.6, max_depth=25, min_child_weight=5, n_estimators=800, subsample=0.6; total time=   0.5s\n",
      "[CV] END learning_rate=0.6, max_depth=25, min_child_weight=5, n_estimators=800, subsample=0.6; total time=   0.4s\n",
      "[CV] END learning_rate=0.6, max_depth=25, min_child_weight=5, n_estimators=800, subsample=0.6; total time=   0.4s\n",
      "[CV] END learning_rate=0.6, max_depth=25, min_child_weight=5, n_estimators=800, subsample=0.6; total time=   0.5s\n",
      "[CV] END learning_rate=0.6, max_depth=25, min_child_weight=5, n_estimators=800, subsample=0.6; total time=   0.5s\n",
      "[CV] END learning_rate=0.1, max_depth=15, min_child_weight=4, n_estimators=400, subsample=0.8; total time=   0.5s\n",
      "[CV] END learning_rate=0.1, max_depth=15, min_child_weight=4, n_estimators=400, subsample=0.8; total time=   0.6s\n",
      "[CV] END learning_rate=0.1, max_depth=15, min_child_weight=4, n_estimators=400, subsample=0.8; total time=   0.5s\n",
      "[CV] END learning_rate=0.1, max_depth=15, min_child_weight=4, n_estimators=400, subsample=0.8; total time=   0.6s\n",
      "[CV] END learning_rate=0.1, max_depth=15, min_child_weight=4, n_estimators=400, subsample=0.8; total time=   0.6s\n",
      "[CV] END learning_rate=0.05, max_depth=30, min_child_weight=5, n_estimators=400, subsample=0.6; total time=   0.5s\n",
      "[CV] END learning_rate=0.05, max_depth=30, min_child_weight=5, n_estimators=400, subsample=0.6; total time=   0.5s\n",
      "[CV] END learning_rate=0.05, max_depth=30, min_child_weight=5, n_estimators=400, subsample=0.6; total time=   0.5s\n",
      "[CV] END learning_rate=0.05, max_depth=30, min_child_weight=5, n_estimators=400, subsample=0.6; total time=   0.5s\n",
      "[CV] END learning_rate=0.05, max_depth=30, min_child_weight=5, n_estimators=400, subsample=0.6; total time=   0.5s\n",
      "[CV] END learning_rate=0.1, max_depth=10, min_child_weight=6, n_estimators=300, subsample=0.6; total time=   0.2s\n",
      "[CV] END learning_rate=0.1, max_depth=10, min_child_weight=6, n_estimators=300, subsample=0.6; total time=   0.2s\n",
      "[CV] END learning_rate=0.1, max_depth=10, min_child_weight=6, n_estimators=300, subsample=0.6; total time=   0.2s\n",
      "[CV] END learning_rate=0.1, max_depth=10, min_child_weight=6, n_estimators=300, subsample=0.6; total time=   0.2s\n",
      "[CV] END learning_rate=0.1, max_depth=10, min_child_weight=6, n_estimators=300, subsample=0.6; total time=   0.2s\n",
      "[CV] END learning_rate=0.6, max_depth=25, min_child_weight=5, n_estimators=1100, subsample=0.8; total time=   0.5s\n",
      "[CV] END learning_rate=0.6, max_depth=25, min_child_weight=5, n_estimators=1100, subsample=0.8; total time=   0.5s\n",
      "[CV] END learning_rate=0.6, max_depth=25, min_child_weight=5, n_estimators=1100, subsample=0.8; total time=   0.5s\n",
      "[CV] END learning_rate=0.6, max_depth=25, min_child_weight=5, n_estimators=1100, subsample=0.8; total time=   0.6s\n",
      "[CV] END learning_rate=0.6, max_depth=25, min_child_weight=5, n_estimators=1100, subsample=0.8; total time=   0.5s\n",
      "[CV] END learning_rate=0.2, max_depth=20, min_child_weight=5, n_estimators=800, subsample=0.8; total time=   1.0s\n",
      "[CV] END learning_rate=0.2, max_depth=20, min_child_weight=5, n_estimators=800, subsample=0.8; total time=   0.9s\n",
      "[CV] END learning_rate=0.2, max_depth=20, min_child_weight=5, n_estimators=800, subsample=0.8; total time=   1.0s\n",
      "[CV] END learning_rate=0.2, max_depth=20, min_child_weight=5, n_estimators=800, subsample=0.8; total time=   1.2s\n",
      "[CV] END learning_rate=0.2, max_depth=20, min_child_weight=5, n_estimators=800, subsample=0.8; total time=   1.0s\n",
      "[CV] END learning_rate=0.3, max_depth=5, min_child_weight=4, n_estimators=100, subsample=0.6; total time=   0.0s\n",
      "[CV] END learning_rate=0.3, max_depth=5, min_child_weight=4, n_estimators=100, subsample=0.6; total time=   0.0s\n"
     ]
    },
    {
     "name": "stdout",
     "output_type": "stream",
     "text": [
      "[CV] END learning_rate=0.3, max_depth=5, min_child_weight=4, n_estimators=100, subsample=0.6; total time=   0.0s\n",
      "[CV] END learning_rate=0.3, max_depth=5, min_child_weight=4, n_estimators=100, subsample=0.6; total time=   0.0s\n",
      "[CV] END learning_rate=0.3, max_depth=5, min_child_weight=4, n_estimators=100, subsample=0.6; total time=   0.0s\n",
      "[CV] END learning_rate=0.5, max_depth=20, min_child_weight=3, n_estimators=800, subsample=0.8; total time=   0.3s\n",
      "[CV] END learning_rate=0.5, max_depth=20, min_child_weight=3, n_estimators=800, subsample=0.8; total time=   0.3s\n",
      "[CV] END learning_rate=0.5, max_depth=20, min_child_weight=3, n_estimators=800, subsample=0.8; total time=   0.3s\n",
      "[CV] END learning_rate=0.5, max_depth=20, min_child_weight=3, n_estimators=800, subsample=0.8; total time=   0.4s\n",
      "[CV] END learning_rate=0.5, max_depth=20, min_child_weight=3, n_estimators=800, subsample=0.8; total time=   0.4s\n",
      "[CV] END learning_rate=0.5, max_depth=5, min_child_weight=6, n_estimators=900, subsample=0.6; total time=   0.4s\n",
      "[CV] END learning_rate=0.5, max_depth=5, min_child_weight=6, n_estimators=900, subsample=0.6; total time=   0.4s\n",
      "[CV] END learning_rate=0.5, max_depth=5, min_child_weight=6, n_estimators=900, subsample=0.6; total time=   0.4s\n",
      "[CV] END learning_rate=0.5, max_depth=5, min_child_weight=6, n_estimators=900, subsample=0.6; total time=   0.4s\n",
      "[CV] END learning_rate=0.5, max_depth=5, min_child_weight=6, n_estimators=900, subsample=0.6; total time=   0.4s\n",
      "[CV] END learning_rate=0.6, max_depth=5, min_child_weight=7, n_estimators=100, subsample=0.6; total time=   0.0s\n",
      "[CV] END learning_rate=0.6, max_depth=5, min_child_weight=7, n_estimators=100, subsample=0.6; total time=   0.0s\n",
      "[CV] END learning_rate=0.6, max_depth=5, min_child_weight=7, n_estimators=100, subsample=0.6; total time=   0.0s\n",
      "[CV] END learning_rate=0.6, max_depth=5, min_child_weight=7, n_estimators=100, subsample=0.6; total time=   0.0s\n",
      "[CV] END learning_rate=0.6, max_depth=5, min_child_weight=7, n_estimators=100, subsample=0.6; total time=   0.0s\n",
      "[CV] END learning_rate=0.2, max_depth=10, min_child_weight=6, n_estimators=200, subsample=0.8; total time=   0.1s\n",
      "[CV] END learning_rate=0.2, max_depth=10, min_child_weight=6, n_estimators=200, subsample=0.8; total time=   0.2s\n",
      "[CV] END learning_rate=0.2, max_depth=10, min_child_weight=6, n_estimators=200, subsample=0.8; total time=   0.1s\n",
      "[CV] END learning_rate=0.2, max_depth=10, min_child_weight=6, n_estimators=200, subsample=0.8; total time=   0.1s\n",
      "[CV] END learning_rate=0.2, max_depth=10, min_child_weight=6, n_estimators=200, subsample=0.8; total time=   0.2s\n",
      "[CV] END learning_rate=0.1, max_depth=15, min_child_weight=7, n_estimators=1200, subsample=0.7; total time=   1.3s\n",
      "[CV] END learning_rate=0.1, max_depth=15, min_child_weight=7, n_estimators=1200, subsample=0.7; total time=   1.3s\n",
      "[CV] END learning_rate=0.1, max_depth=15, min_child_weight=7, n_estimators=1200, subsample=0.7; total time=   1.3s\n",
      "[CV] END learning_rate=0.1, max_depth=15, min_child_weight=7, n_estimators=1200, subsample=0.7; total time=   1.3s\n",
      "[CV] END learning_rate=0.1, max_depth=15, min_child_weight=7, n_estimators=1200, subsample=0.7; total time=   1.3s\n",
      "[CV] END learning_rate=0.2, max_depth=25, min_child_weight=3, n_estimators=200, subsample=0.7; total time=   0.3s\n",
      "[CV] END learning_rate=0.2, max_depth=25, min_child_weight=3, n_estimators=200, subsample=0.7; total time=   0.3s\n",
      "[CV] END learning_rate=0.2, max_depth=25, min_child_weight=3, n_estimators=200, subsample=0.7; total time=   0.4s\n",
      "[CV] END learning_rate=0.2, max_depth=25, min_child_weight=3, n_estimators=200, subsample=0.7; total time=   0.4s\n",
      "[CV] END learning_rate=0.2, max_depth=25, min_child_weight=3, n_estimators=200, subsample=0.7; total time=   0.3s\n",
      "[CV] END learning_rate=0.3, max_depth=25, min_child_weight=5, n_estimators=400, subsample=0.7; total time=   0.5s\n",
      "[CV] END learning_rate=0.3, max_depth=25, min_child_weight=5, n_estimators=400, subsample=0.7; total time=   0.5s\n",
      "[CV] END learning_rate=0.3, max_depth=25, min_child_weight=5, n_estimators=400, subsample=0.7; total time=   0.5s\n",
      "[CV] END learning_rate=0.3, max_depth=25, min_child_weight=5, n_estimators=400, subsample=0.7; total time=   0.6s\n",
      "[CV] END learning_rate=0.3, max_depth=25, min_child_weight=5, n_estimators=400, subsample=0.7; total time=   0.5s\n",
      "[CV] END learning_rate=0.1, max_depth=10, min_child_weight=4, n_estimators=1100, subsample=0.8; total time=   1.0s\n",
      "[CV] END learning_rate=0.1, max_depth=10, min_child_weight=4, n_estimators=1100, subsample=0.8; total time=   1.1s\n",
      "[CV] END learning_rate=0.1, max_depth=10, min_child_weight=4, n_estimators=1100, subsample=0.8; total time=   0.9s\n",
      "[CV] END learning_rate=0.1, max_depth=10, min_child_weight=4, n_estimators=1100, subsample=0.8; total time=   1.1s\n",
      "[CV] END learning_rate=0.1, max_depth=10, min_child_weight=4, n_estimators=1100, subsample=0.8; total time=   0.9s\n",
      "[CV] END learning_rate=0.5, max_depth=20, min_child_weight=6, n_estimators=600, subsample=0.6; total time=   0.6s\n",
      "[CV] END learning_rate=0.5, max_depth=20, min_child_weight=6, n_estimators=600, subsample=0.6; total time=   0.6s\n",
      "[CV] END learning_rate=0.5, max_depth=20, min_child_weight=6, n_estimators=600, subsample=0.6; total time=   0.5s\n",
      "[CV] END learning_rate=0.5, max_depth=20, min_child_weight=6, n_estimators=600, subsample=0.6; total time=   0.5s\n",
      "[CV] END learning_rate=0.5, max_depth=20, min_child_weight=6, n_estimators=600, subsample=0.6; total time=   0.6s\n",
      "[CV] END learning_rate=0.2, max_depth=25, min_child_weight=7, n_estimators=800, subsample=0.7; total time=   0.9s\n",
      "[CV] END learning_rate=0.2, max_depth=25, min_child_weight=7, n_estimators=800, subsample=0.7; total time=   0.9s\n",
      "[CV] END learning_rate=0.2, max_depth=25, min_child_weight=7, n_estimators=800, subsample=0.7; total time=   0.9s\n",
      "[CV] END learning_rate=0.2, max_depth=25, min_child_weight=7, n_estimators=800, subsample=0.7; total time=   1.0s\n",
      "[CV] END learning_rate=0.2, max_depth=25, min_child_weight=7, n_estimators=800, subsample=0.7; total time=   0.9s\n",
      "[CV] END learning_rate=0.1, max_depth=15, min_child_weight=4, n_estimators=1200, subsample=0.7; total time=   1.4s\n",
      "[CV] END learning_rate=0.1, max_depth=15, min_child_weight=4, n_estimators=1200, subsample=0.7; total time=   1.4s\n",
      "[CV] END learning_rate=0.1, max_depth=15, min_child_weight=4, n_estimators=1200, subsample=0.7; total time=   1.3s\n",
      "[CV] END learning_rate=0.1, max_depth=15, min_child_weight=4, n_estimators=1200, subsample=0.7; total time=   1.5s\n",
      "[CV] END learning_rate=0.1, max_depth=15, min_child_weight=4, n_estimators=1200, subsample=0.7; total time=   1.2s\n",
      "[CV] END learning_rate=0.6, max_depth=20, min_child_weight=3, n_estimators=400, subsample=0.8; total time=   0.2s\n",
      "[CV] END learning_rate=0.6, max_depth=20, min_child_weight=3, n_estimators=400, subsample=0.8; total time=   0.2s\n",
      "[CV] END learning_rate=0.6, max_depth=20, min_child_weight=3, n_estimators=400, subsample=0.8; total time=   0.3s\n",
      "[CV] END learning_rate=0.6, max_depth=20, min_child_weight=3, n_estimators=400, subsample=0.8; total time=   0.2s\n",
      "[CV] END learning_rate=0.6, max_depth=20, min_child_weight=3, n_estimators=400, subsample=0.8; total time=   0.2s\n",
      "[CV] END learning_rate=0.05, max_depth=10, min_child_weight=3, n_estimators=700, subsample=0.7; total time=   0.8s\n",
      "[CV] END learning_rate=0.05, max_depth=10, min_child_weight=3, n_estimators=700, subsample=0.7; total time=   0.8s\n",
      "[CV] END learning_rate=0.05, max_depth=10, min_child_weight=3, n_estimators=700, subsample=0.7; total time=   0.8s\n",
      "[CV] END learning_rate=0.05, max_depth=10, min_child_weight=3, n_estimators=700, subsample=0.7; total time=   0.8s\n",
      "[CV] END learning_rate=0.05, max_depth=10, min_child_weight=3, n_estimators=700, subsample=0.7; total time=   0.8s\n"
     ]
    },
    {
     "data": {
      "text/plain": [
       "RandomizedSearchCV(cv=5,\n",
       "                   estimator=XGBRegressor(base_score=None, booster=None,\n",
       "                                          colsample_bylevel=None,\n",
       "                                          colsample_bynode=None,\n",
       "                                          colsample_bytree=None,\n",
       "                                          enable_categorical=False, gamma=None,\n",
       "                                          gpu_id=None, importance_type=None,\n",
       "                                          interaction_constraints=None,\n",
       "                                          learning_rate=None,\n",
       "                                          max_delta_step=None, max_depth=None,\n",
       "                                          min_child_weight=None, missing=nan,\n",
       "                                          monotone_constraints=...\n",
       "                                          validate_parameters=None,\n",
       "                                          verbosity=None),\n",
       "                   n_iter=100, n_jobs=1,\n",
       "                   param_distributions={'learning_rate': ['0.05', '0.1', '0.2',\n",
       "                                                          '0.3', '0.5', '0.6'],\n",
       "                                        'max_depth': [5, 10, 15, 20, 25, 30],\n",
       "                                        'min_child_weight': [3, 4, 5, 6, 7],\n",
       "                                        'n_estimators': [100, 200, 300, 400,\n",
       "                                                         500, 600, 700, 800,\n",
       "                                                         900, 1000, 1100,\n",
       "                                                         1200],\n",
       "                                        'subsample': [0.7, 0.6, 0.8]},\n",
       "                   random_state=42, scoring='neg_mean_squared_error',\n",
       "                   verbose=2)"
      ]
     },
     "execution_count": 28,
     "metadata": {},
     "output_type": "execute_result"
    }
   ],
   "source": [
    "xg_random.fit(x_train,y_train)"
   ]
  },
  {
   "cell_type": "code",
   "execution_count": 29,
   "id": "a1f2650e",
   "metadata": {},
   "outputs": [
    {
     "data": {
      "text/plain": [
       "{'subsample': 0.8,\n",
       " 'n_estimators': 1100,\n",
       " 'min_child_weight': 3,\n",
       " 'max_depth': 30,\n",
       " 'learning_rate': '0.05'}"
      ]
     },
     "execution_count": 29,
     "metadata": {},
     "output_type": "execute_result"
    }
   ],
   "source": [
    "xg_random.best_params_"
   ]
  },
  {
   "cell_type": "code",
   "execution_count": 30,
   "id": "9ac85c11",
   "metadata": {},
   "outputs": [
    {
     "data": {
      "text/plain": [
       "-1380.5446346152435"
      ]
     },
     "execution_count": 30,
     "metadata": {},
     "output_type": "execute_result"
    }
   ],
   "source": [
    "xg_random.best_score_"
   ]
  },
  {
   "cell_type": "code",
   "execution_count": 33,
   "id": "a85771cb",
   "metadata": {},
   "outputs": [],
   "source": [
    "predictions=xg_random.predict(x_test)\n"
   ]
  },
  {
   "cell_type": "code",
   "execution_count": 34,
   "id": "033f099d",
   "metadata": {},
   "outputs": [
    {
     "name": "stderr",
     "output_type": "stream",
     "text": [
      "C:\\Users\\LENOVO\\anaconda3\\lib\\site-packages\\seaborn\\distributions.py:2619: FutureWarning: `distplot` is a deprecated function and will be removed in a future version. Please adapt your code to use either `displot` (a figure-level function with similar flexibility) or `histplot` (an axes-level function for histograms).\n",
      "  warnings.warn(msg, FutureWarning)\n"
     ]
    },
    {
     "data": {
      "text/plain": [
       "<AxesSubplot:xlabel='PM 2.5', ylabel='Density'>"
      ]
     },
     "execution_count": 34,
     "metadata": {},
     "output_type": "execute_result"
    },
    {
     "data": {
      "image/png": "[encoded data removed]",
      "text/plain": [
       "<Figure size 432x288 with 1 Axes>"
      ]
     },
     "metadata": {
      "needs_background": "light"
     },
     "output_type": "display_data"
    }
   ],
   "source": [
    "sns.distplot(y_test-predictions)"
   ]
  },
  {
   "cell_type": "code",
   "execution_count": 35,
   "id": "5bd3516f",
   "metadata": {},
   "outputs": [
    {
     "data": {
      "text/plain": [
       "<matplotlib.collections.PathCollection at 0x259a4621fd0>"
      ]
     },
     "execution_count": 35,
     "metadata": {},
     "output_type": "execute_result"
    },
    {
     "data": {
      "image/png": "[encoded data removed]",
      "text/plain": [
       "<Figure size 432x288 with 1 Axes>"
      ]
     },
     "metadata": {
      "needs_background": "light"
     },
     "output_type": "display_data"
    }
   ],
   "source": [
    "plt.scatter(y_test,predictions)"
   ]
  },
  {
   "cell_type": "code",
   "execution_count": 36,
   "id": "46d81763",
   "metadata": {},
   "outputs": [
    {
     "name": "stdout",
     "output_type": "stream",
     "text": [
      "MAE: 19.02743722623126\n",
      "MSE: 1355.7081047805843\n",
      "RMSE: 36.81994167269395\n"
     ]
    }
   ],
   "source": [
    "from sklearn import metrics\n",
    "print('MAE:', metrics.mean_absolute_error(y_test, predictions))\n",
    "print('MSE:', metrics.mean_squared_error(y_test, predictions))\n",
    "print('RMSE:', np.sqrt(metrics.mean_squared_error(y_test, predictions)))"
   ]
  },
  {
   "cell_type": "code",
   "execution_count": 38,
   "id": "09196ee1",
   "metadata": {},
   "outputs": [],
   "source": [
    "import pickle "
   ]
  },
  {
   "cell_type": "code",
   "execution_count": 40,
   "id": "3b7e87d5",
   "metadata": {},
   "outputs": [],
   "source": [
    "# open a file, where you ant to store the data\n",
    "file = open('random_forest_regression_model.pkl', 'wb')\n",
    "\n",
    "# dump information to that file\n",
    "pickle.dump(xg_random, file)"
   ]
  },
  {
   "cell_type": "code",
   "execution_count": null,
   "id": "ebf2b8f4",
   "metadata": {},
   "outputs": [],
   "source": []
  }
 ],
 "metadata": {
  "kernelspec": {
   "display_name": "Python 3 (ipykernel)",
   "language": "python",
   "name": "python3"
  },
  "language_info": {
   "codemirror_mode": {
    "name": "ipython",
    "version": 3
   },
   "file_extension": ".py",
   "mimetype": "text/x-python",
   "name": "python",
   "nbconvert_exporter": "python",
   "pygments_lexer": "ipython3",
   "version": "3.9.7"
  }
 },
 "nbformat": 4,
 "nbformat_minor": 5
}
